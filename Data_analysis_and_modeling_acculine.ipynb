{
  "nbformat": 4,
  "nbformat_minor": 0,
  "metadata": {
    "colab": {
      "provenance": [],
      "mount_file_id": "1V-Ri0csrEfsUbf1NRmFIbaZl00o62BXZ",
      "authorship_tag": "ABX9TyPGQx3G1IwyizV9GAu7lUnn",
      "include_colab_link": true
    },
    "kernelspec": {
      "name": "python3",
      "display_name": "Python 3"
    },
    "language_info": {
      "name": "python"
    }
  },
  "cells": [
    {
      "cell_type": "markdown",
      "metadata": {
        "id": "view-in-github",
        "colab_type": "text"
      },
      "source": [
        "<a href=\"https://colab.research.google.com/github/idan424/AccuLine-noisy-ECG-classification-assignment/blob/main/Data_analysis_and_modeling_acculine.ipynb\" target=\"_parent\"><img src=\"https://colab.research.google.com/assets/colab-badge.svg\" alt=\"Open In Colab\"/></a>"
      ]
    },
    {
      "cell_type": "code",
      "execution_count": 3,
      "metadata": {
        "id": "65eldjoeL11R"
      },
      "outputs": [],
      "source": [
        "PATH = '/content/drive/MyDrive/Colab Notebooks/AccuLine Assignment'\n",
        "\n",
        "import os\n",
        "\n",
        "os.chdir('/content/drive/MyDrive/Colab Notebooks/AccuLine Assignment')"
      ]
    },
    {
      "cell_type": "code",
      "source": [
        "os.listdir('DATA')\n"
      ],
      "metadata": {
        "colab": {
          "base_uri": "https://localhost:8080/"
        },
        "id": "ASDCPYEMMgtc",
        "outputId": "351d5988-f728-4396-ba8d-47af5a79b0e0"
      },
      "execution_count": 8,
      "outputs": [
        {
          "output_type": "execute_result",
          "data": {
            "text/plain": [
              "['X_train.npy', 'X_test.npy', 'y_test.npy', 'y_train.npy']"
            ]
          },
          "metadata": {},
          "execution_count": 8
        }
      ]
    }
  ]
}